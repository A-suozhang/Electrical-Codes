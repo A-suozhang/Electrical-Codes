{
 "cells": [
  {
   "cell_type": "code",
   "execution_count": 1,
   "metadata": {},
   "outputs": [],
   "source": [
    "import socket\n",
    "from threading import Thread"
   ]
  },
  {
   "cell_type": "code",
   "execution_count": 2,
   "metadata": {},
   "outputs": [],
   "source": [
    "sock = socket.socket(socket.AF_INET, socket.SOCK_STREAM)\n",
    "sock.setsockopt(socket.SOL_SOCKET, socket.SO_REUSEADDR, 1) "
   ]
  },
  {
   "cell_type": "code",
   "execution_count": 3,
   "metadata": {},
   "outputs": [],
   "source": [
    "class ClientThread(Thread): \n",
    " \n",
    "    def __init__(self,ip,port): \n",
    "        Thread.__init__(self) \n",
    "        self.ip = ip \n",
    "        self.port = port \n",
    "        print (\"[+] New server socket thread started for \" + ip + \":\" + str(port))\n",
    " \n",
    "    def run(self): \n",
    "        while True : \n",
    "            data = conn.recv(2048) \n",
    "            print (\"Server received data:\", data)\n",
    "            MESSAGE = input(\"Multithreaded Python server : Enter Response from Server/Enter exit:\")\n",
    "            if MESSAGE == 'exit':\n",
    "                break\n",
    "            conn.send(MESSAGE.encode())  # echo "
   ]
  },
  {
   "cell_type": "code",
   "execution_count": 4,
   "metadata": {},
   "outputs": [],
   "source": [
    "server_addr = (\"192.168.43.22\",100)"
   ]
  },
  {
   "cell_type": "code",
   "execution_count": 5,
   "metadata": {},
   "outputs": [],
   "source": [
    "sock.bind(server_addr)\n",
    "threads = []"
   ]
  },
  {
   "cell_type": "code",
   "execution_count": null,
   "metadata": {},
   "outputs": [
    {
     "name": "stdout",
     "output_type": "stream",
     "text": [
      "Multithreaded Python server : Waiting for connections from TCP clients...\n",
      "[+] New server socket thread started for 192.168.43.22:10871\n",
      "Multithreaded Python server : Waiting for connections from TCP clients...\n",
      "Server received data: b'aaaaa'\n",
      "Multithreaded Python server : Enter Response from Server/Enter exit:fuck you \n"
     ]
    },
    {
     "name": "stderr",
     "output_type": "stream",
     "text": [
      "Exception in thread Thread-6:\n",
      "Traceback (most recent call last):\n",
      "  File \"c:\\users\\a_suozhang\\appdata\\local\\programs\\python\\python36\\lib\\threading.py\", line 916, in _bootstrap_inner\n",
      "    self.run()\n",
      "  File \"<ipython-input-3-fc91ac93b9ce>\", line 16, in run\n",
      "    conn.send(MESSAGE)  # echo\n",
      "TypeError: a bytes-like object is required, not 'str'\n",
      "\n"
     ]
    }
   ],
   "source": [
    "while True: \n",
    "    sock.listen(2) \n",
    "    print (\"Multithreaded Python server : Waiting for connections from TCP clients...\" )\n",
    "    (conn, (ip,port)) = sock.accept() \n",
    "    newthread = ClientThread(ip,port) \n",
    "    newthread.start() \n",
    "    threads.append(newthread) \n",
    " \n",
    "for t in threads: \n",
    "    t.join() "
   ]
  },
  {
   "cell_type": "code",
   "execution_count": null,
   "metadata": {},
   "outputs": [],
   "source": [
    "# sock.listen(2)\n",
    "\n",
    "# # When The Client(ESP32) disconnected (or Repowered), This Connection is invalid, and The server give a new port\n",
    "# # \n",
    "# connection, client_address = sock.accept()\n",
    "# print (connection, client_address)\n",
    "# connection.sendall('HELLO'.encode())"
   ]
  },
  {
   "cell_type": "code",
   "execution_count": null,
   "metadata": {},
   "outputs": [],
   "source": [
    "# connection.sendall(\" FUCKYOU\".encode())"
   ]
  },
  {
   "cell_type": "code",
   "execution_count": null,
   "metadata": {},
   "outputs": [],
   "source": [
    "sock.sendall(\"ASS\".encode())"
   ]
  },
  {
   "cell_type": "code",
   "execution_count": null,
   "metadata": {},
   "outputs": [],
   "source": []
  }
 ],
 "metadata": {
  "kernelspec": {
   "display_name": "Python 3",
   "language": "python",
   "name": "python3"
  },
  "language_info": {
   "codemirror_mode": {
    "name": "ipython",
    "version": 3
   },
   "file_extension": ".py",
   "mimetype": "text/x-python",
   "name": "python",
   "nbconvert_exporter": "python",
   "pygments_lexer": "ipython3",
   "version": "3.6.5"
  }
 },
 "nbformat": 4,
 "nbformat_minor": 2
}
